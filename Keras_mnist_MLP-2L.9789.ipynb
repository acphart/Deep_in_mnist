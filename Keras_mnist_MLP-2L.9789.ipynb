{
 "cells": [
  {
   "cell_type": "markdown",
   "metadata": {},
   "source": [
    "# Keras mnist MLP-2L\n",
    "**此项目测试多层感知机-单隐藏层**"
   ]
  },
  {
   "cell_type": "code",
   "execution_count": 1,
   "metadata": {},
   "outputs": [
    {
     "name": "stderr",
     "output_type": "stream",
     "text": [
      "Using TensorFlow backend.\n"
     ]
    }
   ],
   "source": [
    "%matplotlib inline\n",
    "import os\n",
    "import PIL\n",
    "import pickle\n",
    "import numpy as np\n",
    "import pandas as pd\n",
    "import matplotlib.pyplot as plt\n",
    "import tensorflow as tf\n",
    "import keras\n",
    "\n",
    "from IPython import display\n",
    "from functools import partial\n",
    "from sklearn.preprocessing import normalize\n",
    "\n",
    "from keras import backend\n",
    "from keras.utils import np_utils, plot_model\n",
    "from keras.callbacks import TensorBoard, ModelCheckpoint\n",
    "from keras.callbacks import LearningRateScheduler, ReduceLROnPlateau\n",
    "from keras.preprocessing.image import ImageDataGenerator\n",
    "\n",
    "from keras.models import load_model\n",
    "from keras.models import Sequential, Model\n",
    "from keras.layers import Dense, Conv2D, MaxPool2D, Input, AveragePooling2D\n",
    "from keras.layers import Activation, Dropout, Flatten, BatchNormalization\n",
    "\n",
    "import warnings \n",
    "warnings.filterwarnings('ignore')\n",
    "np.random.seed(42)"
   ]
  },
  {
   "cell_type": "code",
   "execution_count": 8,
   "metadata": {},
   "outputs": [
    {
     "name": "stdout",
     "output_type": "stream",
     "text": [
      "\n",
      "imgs   of trainset :  (50000, 28, 28, 1)\n",
      "labels of trainset :  (50000, 10)\n",
      "imgs   of   valset :  (10000, 784)\n",
      "labels of   valset :  (10000, 10)\n",
      "imgs   of  testset :  (10000, 28, 28, 1)\n",
      "labels of  testset :  (10000, 10)\n"
     ]
    }
   ],
   "source": [
    "file_path = r\"I:\\Dataset\\mnist\\all_mnist_data.csv\"\n",
    "mnist_data = pd.read_csv(file_path)\n",
    "\n",
    "idx = np.random.permutation(len(mnist_data))\n",
    "train_data = mnist_data.iloc[idx[: 60000]]\n",
    "test_data = mnist_data.iloc[idx[60000: ]]\n",
    "\n",
    "X_train = np.array(train_data.drop('0', axis=1)).reshape(-1, 28, 28, 1).astype(\"float32\")\n",
    "X_test  = np.array(test_data.drop('0', axis=1)).reshape(-1, 28, 28, 1).astype(\"float32\")\n",
    "\n",
    "y_train = np.array(train_data['0'])\n",
    "y_test  = np.array(test_data['0'])\n",
    "y_train = np_utils.to_categorical(y_train)\n",
    "y_test  = np_utils.to_categorical(y_test)\n",
    "\n",
    "x_train = X_train[10000:]\n",
    "t_train = y_train[10000:]\n",
    "x_val   = X_train[:10000].reshape(-1, 784)\n",
    "t_val   = y_train[:10000]\n",
    "\n",
    "print(\"\\nimgs   of trainset : \", x_train.shape)\n",
    "print(\"labels of trainset : \", t_train.shape)\n",
    "print(\"imgs   of   valset : \", x_val.shape)\n",
    "print(\"labels of   valset : \", t_val.shape)\n",
    "print(\"imgs   of  testset : \", X_test.shape)\n",
    "print(\"labels of  testset : \", y_test.shape)"
   ]
  },
  {
   "cell_type": "code",
   "execution_count": 3,
   "metadata": {},
   "outputs": [
    {
     "name": "stdout",
     "output_type": "stream",
     "text": [
      "_________________________________________________________________\n",
      "Layer (type)                 Output Shape              Param #   \n",
      "=================================================================\n",
      "dense_1 (Dense)              (None, 512)               401920    \n",
      "_________________________________________________________________\n",
      "dense_2 (Dense)              (None, 10)                5130      \n",
      "=================================================================\n",
      "Total params: 407,050\n",
      "Trainable params: 407,050\n",
      "Non-trainable params: 0\n",
      "_________________________________________________________________\n",
      "None\n"
     ]
    }
   ],
   "source": [
    "def myNN():\n",
    "    model = Sequential()\n",
    "\n",
    "    model.add(Dense(units=512, input_dim=784, kernel_initializer=\"normal\",\n",
    "                    activation=\"relu\"))\n",
    "    model.add(Dense(units=10, kernel_initializer=\"normal\", activation=\"softmax\"))\n",
    "    return model\n",
    "model = myNN()\n",
    "print(model.summary())"
   ]
  },
  {
   "cell_type": "code",
   "execution_count": 4,
   "metadata": {},
   "outputs": [],
   "source": [
    "config = tf.ConfigProto()\n",
    "config.gpu_options.per_process_gpu_memory_fraction = 0.2\n",
    "sess = tf.Session(config=config)\n",
    "backend.set_session(sess)"
   ]
  },
  {
   "cell_type": "code",
   "execution_count": 9,
   "metadata": {},
   "outputs": [
    {
     "name": "stdout",
     "output_type": "stream",
     "text": [
      "\n",
      "training model :  Keras_mnist_MLP_2L.h5\n",
      "   0 epoch: train acc: 0.927850 loss: 0.244417      val acc: 0.961800 loss: 0.127881\n",
      "val acc improved from 0.000000 to 0.961800\n",
      "   1 epoch: train acc: 0.970450 loss: 0.098839      val acc: 0.969500 loss: 0.097090\n",
      "val acc improved from 0.961800 to 0.969500\n",
      "   2 epoch: train acc: 0.980700 loss: 0.064536      val acc: 0.974400 loss: 0.081762\n",
      "val acc improved from 0.969500 to 0.974400\n",
      "   3 epoch: train acc: 0.984900 loss: 0.047615      val acc: 0.975200 loss: 0.079933\n",
      "val acc improved from 0.974400 to 0.975200\n",
      "   4 epoch: train acc: 0.988825 loss: 0.034814      val acc: 0.975800 loss: 0.076806\n",
      "val acc improved from 0.975200 to 0.975800\n",
      "   5 epoch: train acc: 0.990900 loss: 0.028526      val acc: 0.979200 loss: 0.073518\n",
      "val acc improved from 0.975800 to 0.979200\n",
      "   6 epoch: train acc: 0.993300 loss: 0.022067      val acc: 0.976600 loss: 0.091331\n",
      "   7 epoch: train acc: 0.992975 loss: 0.020637      val acc: 0.980500 loss: 0.076438\n",
      "val acc improved from 0.979200 to 0.980500\n",
      "   8 epoch: train acc: 0.995775 loss: 0.013234      val acc: 0.976800 loss: 0.088255\n",
      "   9 epoch: train acc: 0.995825 loss: 0.012612      val acc: 0.976200 loss: 0.087915\n",
      "  10 epoch: train acc: 0.996500 loss: 0.011106      val acc: 0.978200 loss: 0.088128\n",
      "val acc improved from 0.980500 to 0.981400\n",
      "  15 epoch: train acc: 0.997125 loss: 0.008302      val acc: 0.979500 loss: 0.096928\n",
      "val acc improved from 0.981400 to 0.982500\n",
      "  20 epoch: train acc: 0.998175 loss: 0.005841      val acc: 0.981000 loss: 0.101313\n",
      "val acc improved from 0.982500 to 0.982600\n",
      "  25 epoch: train acc: 0.999250 loss: 0.002053      val acc: 0.982100 loss: 0.104072\n",
      "val acc improved from 0.982600 to 0.982800\n",
      "  30 epoch: train acc: 0.998175 loss: 0.005718      val acc: 0.981800 loss: 0.111212\n",
      "  35 epoch: train acc: 0.999425 loss: 0.002152      val acc: 0.979800 loss: 0.132898\n",
      "  40 epoch: train acc: 0.998100 loss: 0.005619      val acc: 0.980900 loss: 0.142273\n",
      "  45 epoch: train acc: 0.998225 loss: 0.006084      val acc: 0.979600 loss: 0.145955\n",
      "Early stop !\n"
     ]
    }
   ],
   "source": [
    "\"\"\"训练模型并保存模型及训练历史\n",
    "保存模型单独创建一个子文件夹modeldir, 保存训练历史则为单个文件hisfile\"\"\"\n",
    "\n",
    "models_name = \"Keras_mnist_MLP_2L\" # 模型名称的公共前缀\n",
    "factor_list = [\"\"] # 此次调参的变量列表\n",
    "\n",
    "model_list = []      # 模型名称列表\n",
    "for i in range(len(factor_list)):\n",
    "    modelname = models_name + factor_list[i] + \".h5\"\n",
    "    model_list.append(modelname)\n",
    "\n",
    "# 创建模型保存子目录modeldir\n",
    "if not os.path.isdir(\"saved_models\"): \n",
    "    os.mkdir(\"saved_models\")\n",
    "modeldir = r\"saved_models\"\n",
    "\n",
    "# 创建训练历史保存目录\n",
    "if not os.path.isdir(\"train_history\"): \n",
    "    os.mkdir(\"train_history\")\n",
    "# 设置训练历史文件路径\n",
    "hisfile = r\"train_history\\Keras_mnist_MLP_2L.train_history\" \n",
    "# 每个模型及其对应的训练历史作为键值对{modelname: train_history}\n",
    "# train_history为字典，含四个key，代表train和val的loss和acc\n",
    "model_train_history = dict() \n",
    "\n",
    "\n",
    "# 开始训练\n",
    "epochs=100\n",
    "batch_size = 32\n",
    "steps_per_epoch=1250\n",
    "for i in range(len(model_list)):\n",
    "    model = myNN()\n",
    "    modelname = model_list[i]\n",
    "    modelpath = os.path.join(modeldir, modelname)    \n",
    "    \n",
    "    train_his = np.array([]).reshape(-1, 2)\n",
    "    val_his = np.array([]).reshape(-1, 2)\n",
    "    datagen = ImageDataGenerator()\n",
    "    datagen.fit(x_train)\n",
    "    model.compile(loss=\"categorical_crossentropy\", \n",
    "                  optimizer=keras.optimizers.Adam(),\n",
    "                  metrics=[\"accuracy\"])\n",
    "    print(\"\\ntraining model : \", modelname)\n",
    "    \n",
    "    ck_epoch, max_val_acc = 0, 0.0\n",
    "    for epoch in range(epochs+1):\n",
    "        i = 0\n",
    "        tr_his = []\n",
    "        for X, y in datagen.flow(x_train, t_train, batch_size=batch_size):\n",
    "            X = X.reshape(-1, 784)\n",
    "            his = model.train_on_batch(X, y)\n",
    "            tr_his.append(his)\n",
    "            i += 1\n",
    "            if i >= steps_per_epoch: break\n",
    "        tr = np.mean(tr_his, axis=0)\n",
    "        val = model.evaluate(x_val, t_val, verbose=0)\n",
    "        train_his = np.vstack((train_his, tr))\n",
    "        val_his = np.vstack((val_his, val))\n",
    "        if epoch<10 or epoch%5==0:\n",
    "            print(\"%4d epoch: train acc: %8f loss: %8f      val acc: %8f loss: %8f\"%(epoch, tr[1], tr[0], val[1], val[0]))\n",
    "        # 设置保存模型\n",
    "        if val[1] > max_val_acc: \n",
    "            model.save(modelpath)\n",
    "            print(\"val acc improved from %6f to %6f\"%(max_val_acc, val[1]))\n",
    "            max_val_acc = val[1]\n",
    "            ck_epoch = epoch\n",
    "        # 超过20个周期性能没有提升\n",
    "        if epoch-ck_epoch > 20:\n",
    "            print(\"Early stop !\")\n",
    "            break\n",
    "    model_train_history[modelname] = {\"acc\": train_his[:, 1], \"val_acc\": val_his[:, 1],\n",
    "                                      \"loss\": train_his[:, 0], \"val_loss\": val_his[:, 0]}\n",
    "\n",
    "\"\"\"保存训练历史\"\"\"\n",
    "fo = open(hisfile, 'wb')\n",
    "pickle.dump(model_train_history, fo)\n",
    "fo.close() "
   ]
  },
  {
   "cell_type": "code",
   "execution_count": 10,
   "metadata": {},
   "outputs": [],
   "source": [
    "def show_train_history(saved_history, his_img_file):  \n",
    "    modelnames = sorted(list(saved_history.keys()))\n",
    "    train = [\"acc\", \"loss\"]\n",
    "    val = [\"val_acc\", \"val_loss\"]\n",
    "    \n",
    "    \"\"\"作loss和acc两个图\"\"\"\n",
    "    fig, ax = plt.subplots(1, 2, figsize=(16, 5))\n",
    "    ax = ax.flatten()\n",
    "    color_add = 0.9/len(saved_history)\n",
    "    for i in range(2):\n",
    "        c = 0.05\n",
    "        for j in range(len(saved_history)):\n",
    "            modelname = modelnames[j]\n",
    "            train_history = saved_history[modelname]\n",
    "            ax[i].plot(train_history[train[i]], \n",
    "                       color=(0, 1-c, 0),\n",
    "                       linestyle=\"-\",\n",
    "                       label=\"train_\"+modelname[21:-3])\n",
    "            ax[i].plot(train_history[val[i]], \n",
    "                       color=(c, 0, 1-c),\n",
    "                       linestyle=\"-\",\n",
    "                       label=\"val_\"+modelname[21:-3])\n",
    "            c += color_add\n",
    "        ax[i].set_title('Train History')\n",
    "        ax[i].set_ylabel(train[i])  \n",
    "        ax[i].set_xlabel('Epoch')  \n",
    "    ax[0].legend(loc=\"lower right\")\n",
    "    ax[1].legend(loc=\"upper right\") \n",
    "    ax[0].set_ylim(0.9, 1.0)\n",
    "    ax[1].set_ylim(0, 0.2)\n",
    "    plt.suptitle(\"MLP_2L\")\n",
    "    \n",
    "    print(\"saved img: \", his_img_file)\n",
    "    plt.savefig(his_img_file)\n",
    "    plt.show()"
   ]
  },
  {
   "cell_type": "code",
   "execution_count": 11,
   "metadata": {},
   "outputs": [
    {
     "name": "stdout",
     "output_type": "stream",
     "text": [
      "saved img:  his_img\\MLP_2L.png\n"
     ]
    },
    {
     "data": {
      "image/png": "[encoded data removed]",
      "text/plain": [
       "<Figure size 1152x360 with 2 Axes>"
      ]
     },
     "metadata": {},
     "output_type": "display_data"
    }
   ],
   "source": [
    "\"\"\"载入训练历史并可视化, 并且保存图片\"\"\"\n",
    "if not os.path.isdir(\"his_img\"):\n",
    "    os.mkdir(\"his_img\")\n",
    "his_img_file = r\"his_img\\MLP_2L.png\"\n",
    "\n",
    "fo2 = open(hisfile, \"rb\")\n",
    "saved_history1 = pickle.load(fo2)\n",
    "\n",
    "show_train_history(saved_history1, his_img_file)"
   ]
  },
  {
   "cell_type": "code",
   "execution_count": 14,
   "metadata": {},
   "outputs": [
    {
     "name": "stdout",
     "output_type": "stream",
     "text": [
      "test model:  Keras_mnist_MLP_2L.h5\n",
      "10000/10000 [==============================] - 1s 92us/step\n",
      "acc: 0.9789 \t loss: 0.1264\n"
     ]
    }
   ],
   "source": [
    "smodel = load_model(modelpath)\n",
    "print(\"test model: \", os.path.basename(modelpath))\n",
    "loss, acc = smodel.evaluate(X_test.reshape(-1, 784), y_test)\n",
    "print(\"acc: %.4f \\t loss: %.4f\"%(acc, loss))"
   ]
  }
 ],
 "metadata": {
  "kernelspec": {
   "display_name": "Python 3",
   "language": "python",
   "name": "python3"
  },
  "language_info": {
   "codemirror_mode": {
    "name": "ipython",
    "version": 3
   },
   "file_extension": ".py",
   "mimetype": "text/x-python",
   "name": "python",
   "nbconvert_exporter": "python",
   "pygments_lexer": "ipython3",
   "version": "3.5.5"
  }
 },
 "nbformat": 4,
 "nbformat_minor": 2
}
