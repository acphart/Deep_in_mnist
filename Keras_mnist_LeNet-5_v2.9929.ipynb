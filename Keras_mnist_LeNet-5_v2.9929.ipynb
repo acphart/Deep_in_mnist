{
 "cells": [
  {
   "cell_type": "markdown",
   "metadata": {},
   "source": [
    "# Keras mnist  LeNet-5 v2\n",
    "**此项目为测试修改版的LeNet-5**\n",
    "- 目前达到$0.9929$的准确率"
   ]
  },
  {
   "cell_type": "code",
   "execution_count": 1,
   "metadata": {},
   "outputs": [
    {
     "name": "stderr",
     "output_type": "stream",
     "text": [
      "Using TensorFlow backend.\n"
     ]
    }
   ],
   "source": [
    "%matplotlib inline\n",
    "import os\n",
    "import PIL\n",
    "import pickle\n",
    "import numpy as np\n",
    "import pandas as pd\n",
    "import matplotlib.pyplot as plt\n",
    "import tensorflow as tf\n",
    "import keras\n",
    "\n",
    "from IPython import display\n",
    "from functools import partial\n",
    "from sklearn.preprocessing import normalize\n",
    "\n",
    "from keras import backend\n",
    "from keras.utils import np_utils, plot_model\n",
    "from keras.callbacks import TensorBoard, ModelCheckpoint\n",
    "from keras.callbacks import LearningRateScheduler, ReduceLROnPlateau\n",
    "from keras.preprocessing.image import ImageDataGenerator\n",
    "\n",
    "from keras.models import load_model\n",
    "from keras.models import Sequential, Model\n",
    "from keras.layers import Dense, Conv2D, MaxPool2D, Input, AveragePooling2D\n",
    "from keras.layers import Activation, Dropout, Flatten, BatchNormalization\n",
    "\n",
    "import warnings \n",
    "warnings.filterwarnings('ignore')\n",
    "np.random.seed(42)"
   ]
  },
  {
   "cell_type": "markdown",
   "metadata": {},
   "source": [
    "## 准备数据"
   ]
  },
  {
   "cell_type": "code",
   "execution_count": 2,
   "metadata": {},
   "outputs": [
    {
     "name": "stdout",
     "output_type": "stream",
     "text": [
      "\n",
      "imgs   of trainset :  (50000, 28, 28, 1)\n",
      "labels of trainset :  (50000, 10)\n",
      "imgs   of   valset :  (10000, 28, 28, 1)\n",
      "labels of   valset :  (10000, 10)\n",
      "imgs   of  testset :  (10000, 28, 28, 1)\n",
      "labels of  testset :  (10000, 10)\n"
     ]
    }
   ],
   "source": [
    "file_path = r\"I:\\Dataset\\mnist\\all_mnist_data.csv\"\n",
    "mnist_data = pd.read_csv(file_path)\n",
    "\n",
    "idx = np.random.permutation(len(mnist_data))\n",
    "train_data = mnist_data.iloc[idx[: 60000]]\n",
    "test_data = mnist_data.iloc[idx[60000: ]]\n",
    "\n",
    "X_train = np.array(train_data.drop('0', axis=1)).reshape(-1, 28, 28, 1).astype(\"float32\")\n",
    "X_test  = np.array(test_data.drop('0', axis=1)).reshape(-1, 28, 28, 1).astype(\"float32\")\n",
    "\n",
    "y_train = np.array(train_data['0'])\n",
    "y_test  = np.array(test_data['0'])\n",
    "y_train = np_utils.to_categorical(y_train)\n",
    "y_test  = np_utils.to_categorical(y_test)\n",
    "\n",
    "x_train = X_train[10000:]\n",
    "t_train = y_train[10000:]\n",
    "x_val   = X_train[:10000]\n",
    "t_val   = y_train[:10000]\n",
    "\n",
    "print(\"\\nimgs   of trainset : \", x_train.shape)\n",
    "print(\"labels of trainset : \", t_train.shape)\n",
    "print(\"imgs   of   valset : \", x_val.shape)\n",
    "print(\"labels of   valset : \", t_val.shape)\n",
    "print(\"imgs   of  testset : \", X_test.shape)\n",
    "print(\"labels of  testset : \", y_test.shape)"
   ]
  },
  {
   "cell_type": "markdown",
   "metadata": {},
   "source": [
    "## 搭建模型"
   ]
  },
  {
   "cell_type": "code",
   "execution_count": 3,
   "metadata": {},
   "outputs": [
    {
     "name": "stdout",
     "output_type": "stream",
     "text": [
      "_________________________________________________________________\n",
      "Layer (type)                 Output Shape              Param #   \n",
      "=================================================================\n",
      "conv2d_1 (Conv2D)            (None, 28, 28, 16)        416       \n",
      "_________________________________________________________________\n",
      "max_pool2d_1 (MaxPooling2D)  (None, 14, 14, 16)        0         \n",
      "_________________________________________________________________\n",
      "conv2d_2 (Conv2D)            (None, 14, 14, 36)        14436     \n",
      "_________________________________________________________________\n",
      "max_pool2d_2 (MaxPooling2D)  (None, 7, 7, 36)          0         \n",
      "_________________________________________________________________\n",
      "dropout_1 (Dropout)          (None, 7, 7, 36)          0         \n",
      "_________________________________________________________________\n",
      "flatten_1 (Flatten)          (None, 1764)              0         \n",
      "_________________________________________________________________\n",
      "dense_1 (Dense)              (None, 128)               225920    \n",
      "_________________________________________________________________\n",
      "dropout_2 (Dropout)          (None, 128)               0         \n",
      "_________________________________________________________________\n",
      "dense_2 (Dense)              (None, 10)                1290      \n",
      "=================================================================\n",
      "Total params: 242,062\n",
      "Trainable params: 242,062\n",
      "Non-trainable params: 0\n",
      "_________________________________________________________________\n"
     ]
    }
   ],
   "source": [
    "def myCNN():\n",
    "    model = Sequential()\n",
    "\n",
    "    model.add(Conv2D(filters=16,\n",
    "                     kernel_size=(5, 5),\n",
    "                     padding='same',\n",
    "                     input_shape=(28, 28, 1),\n",
    "                     activation='relu',\n",
    "                     name='conv2d_1'))\n",
    "\n",
    "    model.add(MaxPool2D(pool_size=(2, 2), name='max_pool2d_1'))\n",
    "\n",
    "    model.add(Conv2D(filters=36,\n",
    "                     kernel_size=(5, 5),\n",
    "                     padding='same',\n",
    "                     input_shape=(14, 14, 1),\n",
    "                     activation='relu',\n",
    "                     name='conv2d_2'))\n",
    "\n",
    "    model.add(MaxPool2D(pool_size=(2, 2), name='max_pool2d_2'))\n",
    "\n",
    "    model.add(Dropout(0.25, name='dropout_1'))\n",
    "\n",
    "    model.add(Flatten(name='flatten_1'))\n",
    "\n",
    "    model.add(Dense(128, activation='relu', name='dense_1'))\n",
    "    model.add(Dropout(0.5, name='dropout_2'))\n",
    "\n",
    "    model.add(Dense(10, activation='softmax', name='dense_2'))\n",
    "    return model\n",
    "model = myCNN()\n",
    "model.summary()"
   ]
  },
  {
   "cell_type": "markdown",
   "metadata": {},
   "source": [
    "### 计算资源的分配"
   ]
  },
  {
   "cell_type": "code",
   "execution_count": 4,
   "metadata": {},
   "outputs": [],
   "source": [
    "config = tf.ConfigProto()\n",
    "config.gpu_options.per_process_gpu_memory_fraction = 0.2\n",
    "sess = tf.Session(config=config)\n",
    "backend.set_session(sess)"
   ]
  },
  {
   "cell_type": "markdown",
   "metadata": {},
   "source": [
    "### 训练"
   ]
  },
  {
   "cell_type": "code",
   "execution_count": 5,
   "metadata": {
    "scrolled": true
   },
   "outputs": [
    {
     "name": "stdout",
     "output_type": "stream",
     "text": [
      "\n",
      "training model :  Keras_mnist_LeNet-5_v2.h5\n",
      "   0 epoch: train acc: 0.922725 loss: 0.248553      val acc: 0.975500 loss: 0.073290\n",
      "val acc improved from 0.000000 to 0.975500\n",
      "   1 epoch: train acc: 0.974250 loss: 0.088033      val acc: 0.983300 loss: 0.052124\n",
      "val acc improved from 0.975500 to 0.983300\n",
      "   2 epoch: train acc: 0.979775 loss: 0.069411      val acc: 0.985500 loss: 0.043014\n",
      "val acc improved from 0.983300 to 0.985500\n",
      "   3 epoch: train acc: 0.982225 loss: 0.060878      val acc: 0.985500 loss: 0.043764\n",
      "   4 epoch: train acc: 0.985125 loss: 0.050331      val acc: 0.989400 loss: 0.031212\n",
      "val acc improved from 0.985500 to 0.989400\n",
      "   5 epoch: train acc: 0.986175 loss: 0.044666      val acc: 0.989900 loss: 0.030585\n",
      "val acc improved from 0.989400 to 0.989900\n",
      "   6 epoch: train acc: 0.987800 loss: 0.039384      val acc: 0.988800 loss: 0.038796\n",
      "   7 epoch: train acc: 0.988525 loss: 0.038216      val acc: 0.988300 loss: 0.037254\n",
      "   8 epoch: train acc: 0.990000 loss: 0.033546      val acc: 0.990100 loss: 0.035915\n",
      "val acc improved from 0.989900 to 0.990100\n",
      "   9 epoch: train acc: 0.990550 loss: 0.031504      val acc: 0.990200 loss: 0.029900\n",
      "val acc improved from 0.990100 to 0.990200\n",
      "  10 epoch: train acc: 0.991025 loss: 0.028952      val acc: 0.990900 loss: 0.029454\n",
      "val acc improved from 0.990200 to 0.990900\n",
      "val acc improved from 0.990900 to 0.991300\n",
      "val acc improved from 0.991300 to 0.991400\n",
      "  15 epoch: train acc: 0.993075 loss: 0.022697      val acc: 0.990300 loss: 0.034392\n",
      "val acc improved from 0.991400 to 0.991800\n",
      "val acc improved from 0.991800 to 0.992100\n",
      "val acc improved from 0.992100 to 0.992700\n",
      "  20 epoch: train acc: 0.994150 loss: 0.019887      val acc: 0.991200 loss: 0.033841\n",
      "val acc improved from 0.992700 to 0.993100\n",
      "  25 epoch: train acc: 0.994925 loss: 0.017861      val acc: 0.992200 loss: 0.032848\n",
      "  30 epoch: train acc: 0.995175 loss: 0.016053      val acc: 0.992200 loss: 0.031137\n",
      "  35 epoch: train acc: 0.995600 loss: 0.015707      val acc: 0.991600 loss: 0.035695\n",
      "  40 epoch: train acc: 0.995325 loss: 0.014632      val acc: 0.992700 loss: 0.037180\n",
      "  45 epoch: train acc: 0.996025 loss: 0.012520      val acc: 0.991400 loss: 0.039746\n",
      "  50 epoch: train acc: 0.995825 loss: 0.013654      val acc: 0.992700 loss: 0.040660\n",
      "  55 epoch: train acc: 0.995600 loss: 0.015995      val acc: 0.992100 loss: 0.048665\n",
      "val acc improved from 0.993100 to 0.993200\n",
      "  60 epoch: train acc: 0.996750 loss: 0.011147      val acc: 0.992800 loss: 0.045231\n",
      "  65 epoch: train acc: 0.996675 loss: 0.011433      val acc: 0.991400 loss: 0.045374\n",
      "  70 epoch: train acc: 0.996525 loss: 0.012970      val acc: 0.992100 loss: 0.048299\n",
      "  75 epoch: train acc: 0.996950 loss: 0.011898      val acc: 0.991600 loss: 0.059145\n",
      "  80 epoch: train acc: 0.997325 loss: 0.010608      val acc: 0.990800 loss: 0.062602\n",
      "  85 epoch: train acc: 0.995875 loss: 0.016077      val acc: 0.992400 loss: 0.042106\n",
      "  90 epoch: train acc: 0.996725 loss: 0.012706      val acc: 0.992200 loss: 0.052151\n",
      "  95 epoch: train acc: 0.997225 loss: 0.011246      val acc: 0.992900 loss: 0.037233\n",
      " 100 epoch: train acc: 0.997200 loss: 0.011304      val acc: 0.992200 loss: 0.051990\n"
     ]
    }
   ],
   "source": [
    "\"\"\"训练模型并保存模型及训练历史\n",
    "保存模型单独创建一个子文件夹modeldir, 保存训练历史则为单个文件hisfile\"\"\"\n",
    "\n",
    "models_name = \"Keras_mnist_LeNet-5_v2\" # 模型名称的公共前缀\n",
    "factor_list = [\"\"] # 此次调参的变量列表\n",
    "\n",
    "model_list = []      # 模型名称列表\n",
    "for i in range(len(factor_list)):\n",
    "    modelname = models_name + factor_list[i] + \".h5\"\n",
    "    model_list.append(modelname)\n",
    "\n",
    "# 创建模型保存子目录modeldir\n",
    "if not os.path.isdir(\"saved_models\"): \n",
    "    os.mkdir(\"saved_models\")\n",
    "modeldir = r\"saved_models\"\n",
    "\n",
    "# 创建训练历史保存目录\n",
    "if not os.path.isdir(\"train_history\"): \n",
    "    os.mkdir(\"train_history\")\n",
    "# 设置训练历史文件路径\n",
    "hisfile = r\"train_history\\Keras_mnist_LeNet-5_v2.train_history\" \n",
    "# 每个模型及其对应的训练历史作为键值对{modelname: train_history}\n",
    "# train_history为字典，含四个key，代表train和val的loss和acc\n",
    "model_train_history = dict() \n",
    "\n",
    "\n",
    "# 开始训练\n",
    "epochs=100\n",
    "batch_size = 32\n",
    "steps_per_epoch=1250\n",
    "for i in range(len(model_list)):\n",
    "    model = myCNN()\n",
    "    modelname = model_list[i]\n",
    "    modelpath = os.path.join(modeldir, modelname)    \n",
    "    \n",
    "    train_his = np.array([]).reshape(-1, 2)\n",
    "    val_his = np.array([]).reshape(-1, 2)\n",
    "    datagen = ImageDataGenerator()\n",
    "    datagen.fit(x_train)\n",
    "    model.compile(loss=\"categorical_crossentropy\", \n",
    "                  optimizer=keras.optimizers.Adam(),\n",
    "                  metrics=[\"accuracy\"])\n",
    "    print(\"\\ntraining model : \", modelname)\n",
    "    \n",
    "    ck_epoch, max_val_acc = 0, 0.0\n",
    "    for epoch in range(epochs+1):\n",
    "        i = 0\n",
    "        tr_his = []\n",
    "        for X, y in datagen.flow(x_train, t_train, batch_size=batch_size):\n",
    "            his = model.train_on_batch(X, y)\n",
    "            tr_his.append(his)\n",
    "            i += 1\n",
    "            if i >= steps_per_epoch: break\n",
    "        tr = np.mean(tr_his, axis=0)\n",
    "        val = model.evaluate(x_val, t_val, verbose=0)\n",
    "        train_his = np.vstack((train_his, tr))\n",
    "        val_his = np.vstack((val_his, val))\n",
    "        if epoch<10 or epoch%5==0:\n",
    "            print(\"%4d epoch: train acc: %8f loss: %8f      val acc: %8f loss: %8f\"%(epoch, tr[1], tr[0], val[1], val[0]))\n",
    "        # 设置保存模型\n",
    "        if val[1] > max_val_acc: \n",
    "            model.save(modelpath)\n",
    "            print(\"val acc improved from %6f to %6f\"%(max_val_acc, val[1]))\n",
    "            max_val_acc = val[1]\n",
    "            ck_epoch = epoch\n",
    "    model_train_history[modelname] = {\"acc\": train_his[:, 1], \"val_acc\": val_his[:, 1],\n",
    "                                      \"loss\": train_his[:, 0], \"val_loss\": val_his[:, 0]}\n",
    "\n",
    "\"\"\"保存训练历史\"\"\"\n",
    "fo = open(hisfile, 'wb')\n",
    "pickle.dump(model_train_history, fo)\n",
    "fo.close() "
   ]
  },
  {
   "cell_type": "markdown",
   "metadata": {},
   "source": [
    "### 可视化训练过程"
   ]
  },
  {
   "cell_type": "code",
   "execution_count": 6,
   "metadata": {},
   "outputs": [],
   "source": [
    "def show_train_history(saved_history, his_img_file):  \n",
    "    modelnames = sorted(list(saved_history.keys()))\n",
    "    train = [\"acc\", \"loss\"]\n",
    "    val = [\"val_acc\", \"val_loss\"]\n",
    "    \n",
    "    \"\"\"作loss和acc两个图\"\"\"\n",
    "    fig, ax = plt.subplots(1, 2, figsize=(16, 5))\n",
    "    ax = ax.flatten()\n",
    "    color_add = 0.9/len(saved_history)\n",
    "    for i in range(2):\n",
    "        c = 0.05\n",
    "        for j in range(len(saved_history)):\n",
    "            modelname = modelnames[j]\n",
    "            train_history = saved_history[modelname]\n",
    "            ax[i].plot(train_history[train[i]], \n",
    "                       color=(0, 1-c, 0),\n",
    "                       linestyle=\"-\",\n",
    "                       label=\"train_\"+modelname[21:-3])\n",
    "            ax[i].plot(train_history[val[i]], \n",
    "                       color=(c, 0, 1-c),\n",
    "                       linestyle=\"-\",\n",
    "                       label=\"val_\"+modelname[21:-3])\n",
    "            c += color_add\n",
    "        ax[i].set_title('Train History')\n",
    "        ax[i].set_ylabel(train[i])  \n",
    "        ax[i].set_xlabel('Epoch')  \n",
    "    ax[0].legend(loc=\"lower right\")\n",
    "    ax[1].legend(loc=\"upper right\") \n",
    "    ax[0].set_ylim(0.9, 1.0)\n",
    "    ax[1].set_ylim(0, 0.2)\n",
    "    plt.suptitle(\"LeNet-5_v2\")\n",
    "    \n",
    "    print(\"saved img: \", his_img_file)\n",
    "    plt.savefig(his_img_file)\n",
    "    plt.show()"
   ]
  },
  {
   "cell_type": "code",
   "execution_count": 7,
   "metadata": {},
   "outputs": [
    {
     "name": "stdout",
     "output_type": "stream",
     "text": [
      "saved img:  his_img\\LeNet-5_v2.png\n"
     ]
    },
    {
     "data": {
      "image/png": "[encoded data removed]",
      "text/plain": [
       "<Figure size 1152x360 with 2 Axes>"
      ]
     },
     "metadata": {},
     "output_type": "display_data"
    }
   ],
   "source": [
    "\"\"\"载入训练历史并可视化, 并且保存图片\"\"\"\n",
    "if not os.path.isdir(\"his_img\"):\n",
    "    os.mkdir(\"his_img\")\n",
    "his_img_file = r\"his_img\\LeNet-5_v2.png\"\n",
    "\n",
    "fo2 = open(hisfile, \"rb\")\n",
    "saved_history1 = pickle.load(fo2)\n",
    "\n",
    "show_train_history(saved_history1, his_img_file)"
   ]
  },
  {
   "cell_type": "markdown",
   "metadata": {},
   "source": [
    "## 在测试集上测试"
   ]
  },
  {
   "cell_type": "code",
   "execution_count": 8,
   "metadata": {},
   "outputs": [
    {
     "name": "stdout",
     "output_type": "stream",
     "text": [
      "test model:  Keras_mnist_LeNet-5_v2.h5\n",
      "10000/10000 [==============================] - 3s 322us/step\n",
      "test ：acc: 0.9929\n"
     ]
    }
   ],
   "source": [
    "smodel = load_model(modelpath)\n",
    "print(\"test model: \", os.path.basename(modelpath))\n",
    "loss, acc = smodel.evaluate(X_test, y_test)\n",
    "\n",
    "print(\"test ：acc: %.4f\"%(acc))"
   ]
  }
 ],
 "metadata": {
  "kernelspec": {
   "display_name": "Python 3",
   "language": "python",
   "name": "python3"
  },
  "language_info": {
   "codemirror_mode": {
    "name": "ipython",
    "version": 3
   },
   "file_extension": ".py",
   "mimetype": "text/x-python",
   "name": "python",
   "nbconvert_exporter": "python",
   "pygments_lexer": "ipython3",
   "version": "3.5.5"
  }
 },
 "nbformat": 4,
 "nbformat_minor": 2
}
