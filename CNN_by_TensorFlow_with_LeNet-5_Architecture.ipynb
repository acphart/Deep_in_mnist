{
 "cells": [
  {
   "cell_type": "markdown",
   "metadata": {},
   "source": [
    "# 介绍"
   ]
  },
  {
   "cell_type": "markdown",
   "metadata": {},
   "source": [
    "### 项目介绍\n",
    "- 这里使用TensorFlow搭建CNN识别mnist手写数字特征\n",
    "- 这份代码参照LeNet-5架构，论文阅读及下载地址：http://yann.lecun.com/exdb/publis/pdf/lecun-98.pdf）\n",
    "- 架构的详细描述请看下面搭建CNN的描述"
   ]
  },
  {
   "cell_type": "markdown",
   "metadata": {},
   "source": [
    "# 步骤 "
   ]
  },
  {
   "cell_type": "markdown",
   "metadata": {},
   "source": [
    "## 1. 导入工具库和准备数据"
   ]
  },
  {
   "cell_type": "code",
   "execution_count": 1,
   "metadata": {},
   "outputs": [],
   "source": [
    "import tensorflow as tf\n",
    "import numpy as np\n",
    "import pandas as pd\n",
    "import matplotlib.pyplot as plt\n",
    "import os\n",
    "import warnings\n",
    "\n",
    "# os.environ['TF_CPP_MIN_LOG_LEVEL']='2'\n",
    "# warnings.filterwarnings('ignore')\n",
    "\n",
    "from IPython.core.interactiveshell import InteractiveShell\n",
    "# InteractiveShell.ast_node_interactivity = 'all'"
   ]
  },
  {
   "cell_type": "markdown",
   "metadata": {},
   "source": [
    "- 这里的all_mnist_data.csv是重新包装后的所有原始mnist数据，共70000个手写数字，数据详情及下载请阅读我GitHub主页上的介绍[GitHub：acphart/Deep_in_mnist](https://github.com/acphart/Deep_in_mnist)"
   ]
  },
  {
   "cell_type": "code",
   "execution_count": 2,
   "metadata": {},
   "outputs": [],
   "source": [
    "data = pd.read_csv('../../dataset/all_mnist_data.csv').values"
   ]
  },
  {
   "cell_type": "code",
   "execution_count": 3,
   "metadata": {},
   "outputs": [],
   "source": [
    "'''\n",
    "切分数据，训练集为59000， 交叉验证集为1000， 测试集为10000；\n",
    "交叉验证集过大会导致内存溢出（gpu内存不足），同时也不必要设置太大，\n",
    "1000足够了，太大了还会拖慢训练速度；\n",
    "'''\n",
    "tr_r = 59000\n",
    "cv_r = 60000\n",
    "\n",
    "train = data[:tr_r]\n",
    "cv = data[tr_r:cv_r]\n",
    "test = data[cv_r:]"
   ]
  },
  {
   "cell_type": "markdown",
   "metadata": {},
   "source": [
    "## 2. 定义搭建CNN的相关函数"
   ]
  },
  {
   "cell_type": "code",
   "execution_count": 4,
   "metadata": {},
   "outputs": [],
   "source": [
    "'''\n",
    "向量化函数，将相应数字转换成one-hot向量，如下：\n",
    "0 => [1 0 0 0 0 0 0 0 0 0]\n",
    "1 => [0 1 0 0 0 0 0 0 0 0]\n",
    "...\n",
    "9 => [0 0 0 0 0 0 0 0 0 1]\n",
    "'''\n",
    "def vectorize(y_flat):\n",
    "    n = y_flat.shape[0]\n",
    "    vectors = np.zeros((n, 10))\n",
    "    for i in range(n):\n",
    "        vectors[i][int(y_flat[i])] = 1.0\n",
    "    return vectors.astype(np.uint8)"
   ]
  },
  {
   "cell_type": "code",
   "execution_count": 5,
   "metadata": {},
   "outputs": [],
   "source": [
    "'''权重初始化函数'''\n",
    "def init_weights(shape, name=None):\n",
    "    weights = tf.truncated_normal(shape, stddev=0.1)\n",
    "    return tf.Variable(weights, name=name)\n",
    "\n",
    "'''偏置初始化函数'''\n",
    "def init_biases(shape, name=None):\n",
    "    biases = tf.constant(0.1, shape=shape)\n",
    "    return tf.Variable(biases, name=name)\n",
    "\n",
    "'''卷积函数，步长为1，返回与输入图像shape相同的特征映射(padding='SAME')'''\n",
    "def conv2d(putin, conv_k, name=None):\n",
    "    return tf.nn.conv2d(putin, conv_k, \n",
    "                        strides=[1, 1, 1, 1], padding='SAME', name=name)\n",
    "\n",
    "'''池化函数，2*2最大池化，步长为2，池化后图像长宽各减半'''\n",
    "def max_pool22(putin, name=None):\n",
    "    return tf.nn.max_pool(putin, ksize=[1, 2, 2, 1], \n",
    "                          strides=[1, 2, 2, 1], padding='SAME', name=name)"
   ]
  },
  {
   "cell_type": "markdown",
   "metadata": {},
   "source": [
    "## 3. 搭建CNN"
   ]
  },
  {
   "cell_type": "markdown",
   "metadata": {},
   "source": [
    "### 3.1 CNN结构\n",
    "- 我们这里参考LeNet-5网络结构，相关论文地址：http://yann.lecun.com/exdb/publis/pdf/lecun-98.pdf）\n",
    "\n",
    "- 输入层通过reshape原始的特征向量转换为一批28x28单通道（灰度）的手写数字图片putin\n",
    "- putin随后通过第一卷积层得到32个特征映射，然后经第一层池化图片大小缩减为14x14\n",
    "- 经过第二卷积层得到64个特征映射，然后经第二层池化图片大小缩减为7x7\n",
    "- 然后进入全连接层，进入之前需要reshape第二池化层出来的Tensor\n",
    "- 在全连接层设置弃权，可以加速训练和防止过拟合\n",
    "- 到达输出层\n",
    "\n",
    "- 这里我用中文注释说明CNN的结构，英文注释代表了Tensor维度的变化，这里很容易体会到TensorFlow名字的意思=> 张量流"
   ]
  },
  {
   "cell_type": "markdown",
   "metadata": {},
   "source": [
    "### 3.2 输入层"
   ]
  },
  {
   "cell_type": "code",
   "execution_count": 6,
   "metadata": {},
   "outputs": [
    {
     "data": {
      "text/plain": [
       "'after reshape, Tensor => [m, 28, 28, 1]'"
      ]
     },
     "execution_count": 6,
     "metadata": {},
     "output_type": "execute_result"
    }
   ],
   "source": [
    "'''x为原始输入数据，即特征向量，None代表可以批量喂入数据'''\n",
    "'''y为对应输入数据的期望输出结果，即真实值'''\n",
    "x = tf.placeholder(np.float32, [None, 784], name='x')\n",
    "y = tf.placeholder(np.float32, [None, 10], name='y')\n",
    "'''x is the original Tensor => [m, 784]'''\n",
    "\n",
    "\n",
    "'''输入层，-1代表让函数自动计算第一维的大小'''\n",
    "'''这里将原始输入转换成一批单通道图片'''\n",
    "putin = tf.reshape(x, [-1, 28, 28, 1], name='putin')\n",
    "'''after reshape, Tensor => [m, 28, 28, 1]'''"
   ]
  },
  {
   "cell_type": "markdown",
   "metadata": {},
   "source": [
    "### 3.3 第一卷积层和池化层"
   ]
  },
  {
   "cell_type": "code",
   "execution_count": 8,
   "metadata": {},
   "outputs": [
    {
     "data": {
      "text/plain": [
       "'after pooling by [1, 2, 2, 1], padding_type is \"SAME\", Tensor => [m, 14, 14, 32]'"
      ]
     },
     "execution_count": 8,
     "metadata": {},
     "output_type": "execute_result"
    }
   ],
   "source": [
    "'''第一卷积层的卷积核：5x5局部感受野，单通道，32个特征映射'''\n",
    "'''使用修正线性单元ReLU作为激活函数'''\n",
    "w_conv1 = init_weights([5, 5, 1, 32], name='w_conv1')\n",
    "b_conv1 = init_biases([32], name='b_conv1')\n",
    "h_conv1 = tf.nn.relu(conv2d(putin, w_conv1) + b_conv1, name='h_conv1')\n",
    "'''after conv2d by w_conv1, padding_type is \"SAME\", Tensor => [m, 28, 28, 32]'''\n",
    "\n",
    "\n",
    "'''第一池化层，2*2最大值池化'''\n",
    "pool_1 = max_pool22(h_conv1, name='pool_1')\n",
    "'''after pooling by [1, 2, 2, 1], padding_type is \"SAME\", Tensor => [m, 14, 14, 32]'''"
   ]
  },
  {
   "cell_type": "markdown",
   "metadata": {},
   "source": [
    "### 3.4 第二卷积层和池化层"
   ]
  },
  {
   "cell_type": "code",
   "execution_count": 9,
   "metadata": {},
   "outputs": [
    {
     "data": {
      "text/plain": [
       "'after pooling by [1, 2, 2, 1], padding_type is \"SAME\", Tensor => [m, 7, 7, 64]'"
      ]
     },
     "execution_count": 9,
     "metadata": {},
     "output_type": "execute_result"
    }
   ],
   "source": [
    "'''第二卷积层的卷积核：5x5局部感受野，32通道，64个特征映射'''\n",
    "'''依旧使用ReLU作为激活函数'''\n",
    "w_conv2 = init_weights([5, 5, 32, 64], name='w_conv2')\n",
    "b_conv2 = init_biases([64], name='b_conv2')\n",
    "h_conv2 = tf.nn.relu(conv2d(pool_1, w_conv2) + b_conv2, name='h_conv2')\n",
    "'''after conv2d by w_conv2, padding_type is \"SAME\", Tensor => [m, 14, 14, 64]'''\n",
    "\n",
    "\n",
    "'''第二池化层，2*2最大值池化'''\n",
    "pool_2 = max_pool22(h_conv2, name='pool_2')\n",
    "'''after pooling by [1, 2, 2, 1], padding_type is \"SAME\", Tensor => [m, 7, 7, 64]'''"
   ]
  },
  {
   "cell_type": "markdown",
   "metadata": {},
   "source": [
    "### 3.5 全连接层（第一全连接层）"
   ]
  },
  {
   "cell_type": "code",
   "execution_count": 10,
   "metadata": {},
   "outputs": [
    {
     "data": {
      "text/plain": [
       "'after matmul by w_fc1, Tensor => [m, 1024]'"
      ]
     },
     "execution_count": 10,
     "metadata": {},
     "output_type": "execute_result"
    }
   ],
   "source": [
    "'''重构第二池化层，接下来要进入全连接层full_connecting'''\n",
    "pool_2_flat = tf.reshape(pool_2, [-1, 7*7*64], name='pool_2_flat')\n",
    "'''after reshape, Tensor => [m, 7*7*64]'''\n",
    "\n",
    "\n",
    "'''第一全连接层：1024个神经元'''\n",
    "'''使用ReLU作为激活函数'''\n",
    "w_fc1 = init_weights([7*7*64, 1024], name='w_fc1')\n",
    "b_fc1 = init_biases([1024], name='b_fc_1')\n",
    "h_fc1 = tf.nn.relu(tf.matmul(pool_2_flat, w_fc1) + b_fc1, name='h_fc1')\n",
    "'''after matmul by w_fc1, Tensor => [m, 1024]'''"
   ]
  },
  {
   "cell_type": "markdown",
   "metadata": {},
   "source": [
    "### 3.6 输出层（第二全连接层）\n",
    "- 在这里设置弃权，用以加快训练速度以及减低全连接层的过拟合；\n",
    "- 顺便说明一下：卷积层一般不需要处理过拟合问题，因为卷积天然就具有很强的抵抗过拟合的特性，过拟合其实理解起来就是模型在学习噪声，而噪声一般是随机出现在训练数据的不同局部，而卷积核的共享权重意味着卷积核被强制从整个图像中学习，这使他们不太可能去选择在训练数据中的局部特质。"
   ]
  },
  {
   "cell_type": "code",
   "execution_count": 11,
   "metadata": {},
   "outputs": [
    {
     "data": {
      "text/plain": [
       "'after matmul by w_fc2, Tensor => [m, 10]'"
      ]
     },
     "execution_count": 11,
     "metadata": {},
     "output_type": "execute_result"
    }
   ],
   "source": [
    "'''设置弃权'''\n",
    "keep_prob = tf.placeholder('float', name='keep_prob')\n",
    "h_fc1_drop = tf.nn.dropout(h_fc1, keep_prob, name='h_fc1_drop')\n",
    "\n",
    "'''第二全连接层的权重和偏置'''\n",
    "w_fc2 = init_weights([1024, 10], name='w_fc2')\n",
    "b_fc2 = init_biases([10], name='b_fc2')\n",
    "\n",
    "'''第二全连接层，即输出层，使用柔性最大值函数softmax作为激活函数'''\n",
    "y_ = tf.nn.softmax(tf.matmul(h_fc1_drop, w_fc2) + b_fc2, name='y_')\n",
    "'''after matmul by w_fc2, Tensor => [m, 10]'''"
   ]
  },
  {
   "cell_type": "markdown",
   "metadata": {},
   "source": [
    "## 4. CNN其他设置"
   ]
  },
  {
   "cell_type": "markdown",
   "metadata": {},
   "source": [
    "### 4.1 设置超参数、代价函数，选择优化器，计算正确率"
   ]
  },
  {
   "cell_type": "markdown",
   "metadata": {},
   "source": [
    "- 关于学习率和批数据大小是经过多次尝试之后发现这个组合还不错"
   ]
  },
  {
   "cell_type": "code",
   "execution_count": 12,
   "metadata": {},
   "outputs": [],
   "source": [
    "'''设置迭代次数，学习率，批数据大小'''\n",
    "epoches = 10000\n",
    "alpha = 0.0002\n",
    "batch_size = 200\n",
    "\n",
    "'''使用交叉熵代价函数'''\n",
    "cost_func = tf.reduce_sum(-y*tf.log(y_), name='cost_func')\n",
    "'''使用梯度下降优化器'''\n",
    "train_step = tf.train.GradientDescentOptimizer(alpha).minimize(cost_func)\n",
    "\n",
    "'''计算正确率'''\n",
    "correct_prediction = tf.equal(tf.argmax(y, 1), tf.argmax(y_, 1), name='correct_prediction')\n",
    "accuracy = tf.reduce_mean(tf.cast(correct_prediction, 'float32'), name='accuracy')"
   ]
  },
  {
   "cell_type": "markdown",
   "metadata": {},
   "source": [
    "## 5. 训练CNN"
   ]
  },
  {
   "cell_type": "code",
   "execution_count": 13,
   "metadata": {
    "scrolled": false
   },
   "outputs": [
    {
     "name": "stdout",
     "output_type": "stream",
     "text": [
      "epoches: 20  \t  cost:  232.5098\t accuracy: 0.7230\n",
      "epoches: 40  \t  cost:   99.7135\t accuracy: 0.8920\n",
      "epoches: 60  \t  cost:   62.0796\t accuracy: 0.9320\n",
      "epoches: 80  \t  cost:   56.0326\t accuracy: 0.9470\n",
      "epoches: 100 \t  cost:   63.7895\t accuracy: 0.9520\n",
      "epoches: 200 \t  cost:   34.7024\t accuracy: 0.9600\n",
      "epoches: 400 \t  cost:   23.9385\t accuracy: 0.9730\n",
      "epoches: 600 \t  cost:   19.7655\t accuracy: 0.9820\n",
      "epoches: 800 \t  cost:   13.9432\t accuracy: 0.9810\n",
      "epoches: 1000\t  cost:    7.4313\t accuracy: 0.9860\n",
      "epoches: 1200\t  cost:   16.6722\t accuracy: 0.9830\n",
      "epoches: 1400\t  cost:    9.4147\t accuracy: 0.9890\n",
      "epoches: 1600\t  cost:   11.7775\t accuracy: 0.9900\n",
      "epoches: 1800\t  cost:    2.9766\t accuracy: 0.9910\n",
      "epoches: 2000\t  cost:    5.7111\t accuracy: 0.9880\n",
      "epoches: 2200\t  cost:    3.3531\t accuracy: 0.9890\n",
      "epoches: 2400\t  cost:    5.3885\t accuracy: 0.9900\n",
      "epoches: 2600\t  cost:    3.3719\t accuracy: 0.9890\n",
      "epoches: 2800\t  cost:    4.1312\t accuracy: 0.9910\n",
      "epoches: 3000\t  cost:    4.2502\t accuracy: 0.9910\n",
      "epoches: 3200\t  cost:    3.8794\t accuracy: 0.9910\n",
      "epoches: 3400\t  cost:    7.4820\t accuracy: 0.9930\n",
      "epoches: 3600\t  cost:   10.4082\t accuracy: 0.9910\n",
      "epoches: 3800\t  cost:    7.3295\t accuracy: 0.9900\n",
      "epoches: 4000\t  cost:    1.7250\t accuracy: 0.9930\n",
      "epoches: 4200\t  cost:    6.4778\t accuracy: 0.9930\n",
      "epoches: 4400\t  cost:    1.3318\t accuracy: 0.9930\n",
      "epoches: 4600\t  cost:    1.4021\t accuracy: 0.9920\n",
      "epoches: 4800\t  cost:    2.5861\t accuracy: 0.9910\n",
      "epoches: 5000\t  cost:    3.1131\t accuracy: 0.9920\n",
      "epoches: 5200\t  cost:    0.8810\t accuracy: 0.9930\n",
      "epoches: 5400\t  cost:    4.0778\t accuracy: 0.9930\n",
      "epoches: 5600\t  cost:    4.6981\t accuracy: 0.9920\n",
      "epoches: 5800\t  cost:    2.4814\t accuracy: 0.9930\n",
      "epoches: 6000\t  cost:    0.5687\t accuracy: 0.9920\n",
      "epoches: 6200\t  cost:    4.7754\t accuracy: 0.9930\n",
      "epoches: 6400\t  cost:    0.5672\t accuracy: 0.9920\n",
      "epoches: 6600\t  cost:    1.0349\t accuracy: 0.9930\n",
      "epoches: 6800\t  cost:    0.2849\t accuracy: 0.9930\n",
      "epoches: 7000\t  cost:    7.2503\t accuracy: 0.9920\n",
      "epoches: 7200\t  cost:    3.1297\t accuracy: 0.9930\n",
      "epoches: 7400\t  cost:    3.0174\t accuracy: 0.9920\n",
      "epoches: 7600\t  cost:    0.4067\t accuracy: 0.9930\n",
      "epoches: 7800\t  cost:    1.0140\t accuracy: 0.9930\n",
      "epoches: 8000\t  cost:    0.8347\t accuracy: 0.9920\n",
      "epoches: 8200\t  cost:    4.6941\t accuracy: 0.9920\n",
      "epoches: 8400\t  cost:    3.1090\t accuracy: 0.9930\n",
      "epoches: 8600\t  cost:    0.7467\t accuracy: 0.9930\n",
      "epoches: 8800\t  cost:    1.1472\t accuracy: 0.9930\n",
      "epoches: 9000\t  cost:    1.3889\t accuracy: 0.9920\n",
      "epoches: 9200\t  cost:    1.1031\t accuracy: 0.9930\n",
      "epoches: 9400\t  cost:    0.4943\t accuracy: 0.9930\n",
      "epoches: 9600\t  cost:    0.5199\t accuracy: 0.9930\n",
      "epoches: 9800\t  cost:    0.5397\t accuracy: 0.9930\n",
      "epoches: 10000\t  cost:    0.5592\t accuracy: 0.9920\n"
     ]
    }
   ],
   "source": [
    "'''初始化全局变量'''\n",
    "init = tf.global_variables_initializer()\n",
    "'''使用交互式会话，便于求值'''\n",
    "sess = tf.InteractiveSession()\n",
    "sess.run(init)\n",
    "\n",
    "'''记录训练过程，作学习曲线图'''\n",
    "epoch_list = []\n",
    "acc_list = []\n",
    "cost_list = []\n",
    "\n",
    "\n",
    "'''迭代训练'''\n",
    "index = 20\n",
    "i = 1\n",
    "while i < epoches:\n",
    "    '''\n",
    "    这里我使用的迭代方式是，每次打乱整个训练集，然后按顺序分批送入数据，即：\n",
    "    1. 打乱数据np.random.shuffle(train)\n",
    "    2. 将前batch_size个数据喂入CNN\n",
    "    3. 检查是否到达数据集尾部train.shape[0]，如果没有，则喂入接下来的batch_size个数据\n",
    "    如果到达尾部，回到第一步。\n",
    "    '''\n",
    "    begin_point = 0\n",
    "    np.random.shuffle(train)\n",
    "    while begin_point + batch_size < train.shape[0]:\n",
    "        \n",
    "        '''获取新的一批数据，并喂入CNN训练'''\n",
    "        batch = train[begin_point: begin_point+batch_size]\n",
    "        x_batch = batch[:, 1:]\n",
    "        y_batch = vectorize(batch[:, 0])\n",
    "        sess.run(train_step, feed_dict={x: x_batch, y: y_batch, keep_prob:0.5})\n",
    "\n",
    "        begin_point = begin_point + batch_size\n",
    "        i = i + 1\n",
    "        if i > epoches: break\n",
    "        \n",
    "        if i%index == 0:  \n",
    "            '''计算验证集的正确率和训练的代价函数值（损失值）'''\n",
    "            acc = accuracy.eval(feed_dict={x: cv[:, 1:], y: vectorize(cv[:, 0]), keep_prob:1.0})\n",
    "            cost = cost_func.eval(feed_dict={x: x_batch, y: y_batch, keep_prob:1.0})\n",
    "            print('epoches: {0:<4d}\\t  cost: {1:>9.4f}\\t accuracy: {2:<.4f}'.format( i, cost, acc))\n",
    "            \n",
    "            epoch_list.append(i)\n",
    "            acc_list.append(acc)\n",
    "            cost_list.append(cost)\n",
    "            \n",
    "            if(i >= index*5): index = index*10\n",
    "            if i >=100: \n",
    "                index = 200\n",
    "            if i >=2000:\n",
    "                '''当迭代达到2000次后，减小学习率'''\n",
    "                alpha = 1e-5"
   ]
  },
  {
   "cell_type": "markdown",
   "metadata": {},
   "source": [
    "- 训练结果还行，虽然训练过多（反正是睡觉的时候训练的 ~\\\\(^o^)/~ ），只要没有过拟合就可以了"
   ]
  },
  {
   "cell_type": "markdown",
   "metadata": {},
   "source": [
    "## 6. 作学习曲线图\n",
    "- 有前面的输出其实不用画图也行，但图比较直观一点\n",
    "- 图像还是表明训练得不错的，大概在5000左右开始饱和了"
   ]
  },
  {
   "cell_type": "code",
   "execution_count": 14,
   "metadata": {},
   "outputs": [
    {
     "data": {
      "image/png": "[encoded data removed]",
      "text/plain": [
       "<Figure size 432x288 with 1 Axes>"
      ]
     },
     "metadata": {},
     "output_type": "display_data"
    }
   ],
   "source": [
    "'''作出学习曲线图'''\n",
    "cost_list = np.array(cost_list)/cost_list[0]\n",
    "\n",
    "fig, ax = plt.subplots(1, 1, sharex=True, sharey=True)\n",
    "_ = ax.plot(epoch_list, acc_list, color='g', label='accuracy')\n",
    "_ = ax.plot(epoch_list, cost_list, color='r', label='cost')      \n",
    "_ = ax.set_xscale('log')\n",
    "_ = ax.set_ylim((0.0, 1.0))\n",
    "_ = ax.set_xlabel('Epoches', fontsize=16)\n",
    "_ = ax.set_xticklabels(labels=[1, 10, 100, 1000, 10000], fontsize=12)\n",
    "_ = ax.set_yticklabels(labels=[0.0, 0.2, 0.4, 0.6, 0.8, 1.0], fontsize=12)\n",
    "_ = ax.legend(fontsize=14)"
   ]
  },
  {
   "cell_type": "markdown",
   "metadata": {},
   "source": [
    "## 7. 测试准确率\n",
    "- 准确率为0.9929，也就是说10000张里面就剩71张认不出来了"
   ]
  },
  {
   "cell_type": "code",
   "execution_count": 15,
   "metadata": {},
   "outputs": [
    {
     "name": "stdout",
     "output_type": "stream",
     "text": [
      "0.994 \t0.986 \t0.984 \t0.989 \t0.996 \t0.999 \t0.994 \t0.998 \t0.997 \t0.992 \t\n",
      "test accuracy : 0.992900013923645\n"
     ]
    }
   ],
   "source": [
    "'''使用测试集测试准确率'''\n",
    "'''直接把10000数据送进去会内存溢出，所以分成10次算平均值'''\n",
    "j = 0\n",
    "b_size = 1000\n",
    "acc_list = []\n",
    "while j < test.shape[0]:\n",
    "    acc = accuracy.eval(feed_dict={x: test[j:j+b_size, 1:], \n",
    "                                   y: vectorize(test[j:j+b_size, 0]), \n",
    "                                   keep_prob:1.0})\n",
    "    print(acc, '\\t', end='')\n",
    "    j = j+b_size\n",
    "    acc_list.append(acc)\n",
    "print('')\n",
    "test_accuracy = np.array(acc_list).mean()\n",
    "print('test accuracy : {0}'.format(test_accuracy))"
   ]
  },
  {
   "cell_type": "markdown",
   "metadata": {},
   "source": [
    "## 8. 查看识别错误的数字"
   ]
  },
  {
   "cell_type": "markdown",
   "metadata": {},
   "source": [
    "### 8.1 获取预测值"
   ]
  },
  {
   "cell_type": "code",
   "execution_count": 23,
   "metadata": {},
   "outputs": [],
   "source": [
    "'''和测试准确率时一样，也是要分成十次计算'''\n",
    "j = 0\n",
    "b_size = 1000\n",
    "pred_flat = np.empty((10, 1000))\n",
    "\n",
    "while j < test.shape[0]:\n",
    "    prediction_j = y_.eval(feed_dict={x: test[j:j+b_size, 1:], \n",
    "                                y: vectorize(test[j:j+b_size, 0]), \n",
    "                                keep_prob:1.0})\n",
    "    \n",
    "    pred_flat[j//1000] = [np.argmax(pred) for pred in prediction_j]\n",
    "    j = j+b_size"
   ]
  },
  {
   "cell_type": "code",
   "execution_count": 24,
   "metadata": {},
   "outputs": [
    {
     "name": "stdout",
     "output_type": "stream",
     "text": [
      "predicton accuracy :  0.9929\n"
     ]
    }
   ],
   "source": [
    "'''将对应的预测值和真实值展开成一维数组'''\n",
    "'''顺便检查一下正确率是否与前面相符'''\n",
    "pred_y = pred_flat.reshape(10000)\n",
    "real_y = test[:, 0].reshape(10000)\n",
    "pred_acc = np.equal(pred_y, real_y).mean()\n",
    "print('predicton accuracy : ', pred_acc)"
   ]
  },
  {
   "cell_type": "markdown",
   "metadata": {},
   "source": [
    "#### 的确还剩71个数字没有识别出来"
   ]
  },
  {
   "cell_type": "markdown",
   "metadata": {},
   "source": [
    "### 8.2 定义作图函数"
   ]
  },
  {
   "cell_type": "code",
   "execution_count": 25,
   "metadata": {
    "scrolled": false
   },
   "outputs": [],
   "source": [
    "def show_pic(ax, image, y_=None, label=None, wh=28, cmap='Greys'):\n",
    "    '''\n",
    "    作图函数：\n",
    "    ax为Matplotlib.Axes对象；\n",
    "    image为单个的mnist手写数字特征向量，image.shape is (784,)；\n",
    "    y_为预测值；\n",
    "    label为image对应的真实数字标签。\n",
    "    wh为图片的宽和高，默认是28\n",
    "    cmap是颜色映射，默认是'Greys'\n",
    "    '''\n",
    "    img = image.reshape(wh, wh)\n",
    "    ax.imshow(img, cmap=cmap)\n",
    "    ax.axis('off')\n",
    "    if y_ != None:\n",
    "        ax.text(28, 22, str(int(y_)), fontsize=16)\n",
    "    if label != None:\n",
    "        ax.text(28, 8, str(int(label)), color='r', fontsize=16)"
   ]
  },
  {
   "cell_type": "markdown",
   "metadata": {},
   "source": [
    "### 8.3 作图"
   ]
  },
  {
   "cell_type": "code",
   "execution_count": 41,
   "metadata": {},
   "outputs": [
    {
     "data": {
      "image/png": "[encoded data removed]",
      "text/plain": [
       "<Figure size 1008x576 with 72 Axes>"
      ]
     },
     "metadata": {},
     "output_type": "display_data"
    }
   ],
   "source": [
    "fig, ax = plt.subplots(8, 9, sharex=True, sharey=True)\n",
    "fig.set_size_inches(14, 8)\n",
    "ax = ax.flatten()\n",
    "\n",
    "ax_id = 0\n",
    "i = 0\n",
    "while ax_id < 72 :\n",
    "    image_i = test[i, 1:]\n",
    "    yi = real_y[i]\n",
    "    pred_i = pred_y[i]\n",
    "    if pred_i != yi:\n",
    "        '''若预测值与真实值不符，则画图'''\n",
    "        show_pic(ax[ax_id], image_i, pred_i, yi)\n",
    "        ax_id = ax_id + 1\n",
    "    \n",
    "    i = i + 1\n",
    "    if i>=10000: break"
   ]
  },
  {
   "cell_type": "markdown",
   "metadata": {},
   "source": [
    "#### 这剩下没认出来的数字有些是挺难认的，而且有几个感觉预测的比真实的要好，比如第1行第4、6个数字，但还是有相当一部分是我们人可以一眼认出来的，所以还有改进的空间。"
   ]
  },
  {
   "cell_type": "markdown",
   "metadata": {},
   "source": [
    "## 思考：神经网络到底做了什么"
   ]
  },
  {
   "cell_type": "markdown",
   "metadata": {},
   "source": [
    "### 这里仅做一些启发式的描述，以一个测试样本为例，就比如说测试集第一个数据"
   ]
  },
  {
   "cell_type": "code",
   "execution_count": 28,
   "metadata": {},
   "outputs": [
    {
     "data": {
      "image/png": "[encoded data removed]",
      "text/plain": [
       "<Figure size 432x288 with 1 Axes>"
      ]
     },
     "metadata": {},
     "output_type": "display_data"
    }
   ],
   "source": [
    "instance = test[0, 1:]\n",
    "\n",
    "fig, ax = plt.subplots(1, 1)\n",
    "\n",
    "show_pic(ax, instance)"
   ]
  },
  {
   "cell_type": "markdown",
   "metadata": {},
   "source": [
    "- 样例数据一眼能认出是7，再看看模型的识别出来的值"
   ]
  },
  {
   "cell_type": "code",
   "execution_count": 29,
   "metadata": {},
   "outputs": [
    {
     "name": "stdout",
     "output_type": "stream",
     "text": [
      "7\n"
     ]
    }
   ],
   "source": [
    "pred_i = y_.eval(feed_dict={x: instance.reshape(1, 784), \n",
    "                            y: vectorize(test[j:j+b_size, 0]), \n",
    "                            keep_prob:1.0})\n",
    "\n",
    "pred_num = np.argmax(pred_i)\n",
    "print(pred_num)"
   ]
  },
  {
   "cell_type": "markdown",
   "metadata": {},
   "source": [
    "- 我们的CNN模型的预测值也是7，再看一下它的真实值"
   ]
  },
  {
   "cell_type": "code",
   "execution_count": 44,
   "metadata": {
    "scrolled": false
   },
   "outputs": [
    {
     "name": "stdout",
     "output_type": "stream",
     "text": [
      "True\n"
     ]
    }
   ],
   "source": [
    "print(pred_num == test[0, 0])"
   ]
  },
  {
   "cell_type": "markdown",
   "metadata": {},
   "source": [
    "- 预测值和真实值相等，Go on"
   ]
  },
  {
   "cell_type": "markdown",
   "metadata": {},
   "source": [
    "### 第一层卷积的32个特征映射"
   ]
  },
  {
   "cell_type": "code",
   "execution_count": 36,
   "metadata": {},
   "outputs": [
    {
     "data": {
      "image/png": "[encoded data removed]",
      "text/plain": [
       "<Figure size 864x432 with 32 Axes>"
      ]
     },
     "metadata": {},
     "output_type": "display_data"
    }
   ],
   "source": [
    "conv_1_feature = h_conv1.eval(feed_dict={x: instance.reshape(1, 784), \n",
    "                                         y: vectorize(test[j:j+b_size, 0]), \n",
    "                                         keep_prob:1.0})\n",
    "\n",
    "'''conv_1_feature.shape is (1, 28, 28, 32)'''\n",
    "fig, ax = plt.subplots(4, 8)\n",
    "fig.set_size_inches(12, 6)\n",
    "ax = ax.flatten()\n",
    "\n",
    "for i in range(32):\n",
    "    conv_1_img = conv_1_feature[:, :, :, i].reshape(784)\n",
    "    show_pic(ax[i], conv_1_img, cmap='gist_heat')"
   ]
  },
  {
   "cell_type": "markdown",
   "metadata": {},
   "source": [
    "- 这32个图片的明暗不同，说明每个特征检测的方式不一样"
   ]
  },
  {
   "cell_type": "markdown",
   "metadata": {},
   "source": [
    "- 接着看第一层池化后是什么样子"
   ]
  },
  {
   "cell_type": "code",
   "execution_count": 35,
   "metadata": {},
   "outputs": [
    {
     "data": {
      "image/png": "[encoded data removed]",
      "text/plain": [
       "<Figure size 864x432 with 32 Axes>"
      ]
     },
     "metadata": {},
     "output_type": "display_data"
    }
   ],
   "source": [
    "pool_1_feature = pool_1.eval(feed_dict={x: instance.reshape(1, 784), \n",
    "                                        y: vectorize(test[j:j+b_size, 0]), \n",
    "                                        keep_prob:1.0})\n",
    "\n",
    "'''pool_1_feature.shape is (1, 14, 14, 32)'''\n",
    "fig, ax = plt.subplots(4, 8)\n",
    "fig.set_size_inches(12, 6)\n",
    "ax = ax.flatten()\n",
    "\n",
    "for i in range(32):\n",
    "    pool_1_img = pool_1_feature[:, :, :, i].reshape(14*14)\n",
    "    show_pic(ax[i], pool_1_img, wh=14, cmap='gist_heat')"
   ]
  },
  {
   "cell_type": "markdown",
   "metadata": {},
   "source": [
    "- 和我们的池化作用相符，是第一卷积层的缩小版"
   ]
  },
  {
   "cell_type": "markdown",
   "metadata": {},
   "source": [
    "### 第二卷积层是64个特征"
   ]
  },
  {
   "cell_type": "code",
   "execution_count": 37,
   "metadata": {},
   "outputs": [
    {
     "data": {
      "image/png": "[encoded data removed]",
      "text/plain": [
       "<Figure size 864x864 with 64 Axes>"
      ]
     },
     "metadata": {},
     "output_type": "display_data"
    }
   ],
   "source": [
    "conv_2_feature = h_conv2.eval(feed_dict={x: instance.reshape(1, 784), \n",
    "                                         y: vectorize(test[j:j+b_size, 0]), \n",
    "                                         keep_prob:1.0})\n",
    "\n",
    "'''conv_2_feature.shape is (1, 14, 14, 64)'''\n",
    "fig, ax = plt.subplots(8, 8)\n",
    "fig.set_size_inches(12, 12)\n",
    "ax = ax.flatten()\n",
    "\n",
    "for i in range(64):\n",
    "    conv_2_img = conv_2_feature[:, :, :, i].reshape(14*14)\n",
    "    show_pic(ax[i], conv_2_img, wh=14, cmap='gist_heat')"
   ]
  },
  {
   "cell_type": "markdown",
   "metadata": {},
   "source": [
    "- 这个就有点看不懂了,但还是能隐约看出来映射的是图片不同部位的特征"
   ]
  },
  {
   "cell_type": "markdown",
   "metadata": {},
   "source": [
    "- 再下来就是第二层池化"
   ]
  },
  {
   "cell_type": "code",
   "execution_count": 38,
   "metadata": {},
   "outputs": [
    {
     "data": {
      "image/png": "[encoded data removed]",
      "text/plain": [
       "<Figure size 864x864 with 64 Axes>"
      ]
     },
     "metadata": {},
     "output_type": "display_data"
    }
   ],
   "source": [
    "pool_2_feature = pool_2.eval(feed_dict={x: instance.reshape(1, 784), \n",
    "                                        y: vectorize(test[j:j+b_size, 0]), \n",
    "                                        keep_prob:1.0})\n",
    "\n",
    "'''pool_2_feature.shape is (1, 7, 7, 64)'''\n",
    "fig, ax = plt.subplots(8, 8)\n",
    "fig.set_size_inches(12, 12)\n",
    "ax = ax.flatten()\n",
    "for i in range(64):\n",
    "    pool_2_img = pool_2_feature[:, :, :, i].reshape(7*7)\n",
    "    show_pic(ax[i], pool_2_img, wh=7, cmap='gist_heat')"
   ]
  },
  {
   "cell_type": "markdown",
   "metadata": {},
   "source": [
    "- 这个只能隐约再隐约地看出一点点特征了，具体的估计只有我们的CNN模型能看懂了 ~~~"
   ]
  },
  {
   "cell_type": "markdown",
   "metadata": {},
   "source": [
    "- 好啦，演示就到这里了 ~~"
   ]
  },
  {
   "cell_type": "markdown",
   "metadata": {},
   "source": [
    "## 最后，关闭会话，结束"
   ]
  },
  {
   "cell_type": "code",
   "execution_count": 49,
   "metadata": {},
   "outputs": [],
   "source": [
    "sess.close()"
   ]
  }
 ],
 "metadata": {
  "kernelspec": {
   "display_name": "Python 3",
   "language": "python",
   "name": "python3"
  },
  "language_info": {
   "codemirror_mode": {
    "name": "ipython",
    "version": 3
   },
   "file_extension": ".py",
   "mimetype": "text/x-python",
   "name": "python",
   "nbconvert_exporter": "python",
   "pygments_lexer": "ipython3",
   "version": "3.5.5"
  }
 },
 "nbformat": 4,
 "nbformat_minor": 2
}
